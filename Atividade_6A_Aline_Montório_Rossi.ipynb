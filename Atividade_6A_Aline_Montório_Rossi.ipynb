{
  "nbformat": 4,
  "nbformat_minor": 0,
  "metadata": {
    "colab": {
      "provenance": [],
      "collapsed_sections": [
        "XqV6s4AhRw2N",
        "NmtU-j5xR7ot",
        "31hXjyz8Wf8t",
        "3BcDUBd_Zgrd",
        "GQq0T5K3der-",
        "-Q30az6Ch8Wv"
      ],
      "authorship_tag": "ABX9TyM7AhRONzIzusBwVr/zL8hc",
      "include_colab_link": true
    },
    "kernelspec": {
      "name": "python3",
      "display_name": "Python 3"
    },
    "language_info": {
      "name": "python"
    }
  },
  "cells": [
    {
      "cell_type": "markdown",
      "metadata": {
        "id": "view-in-github",
        "colab_type": "text"
      },
      "source": [
        "<a href=\"https://colab.research.google.com/github/Linem0on/teste/blob/main/Atividade_6A_Aline_Mont%C3%B3rio_Rossi.ipynb\" target=\"_parent\"><img src=\"https://colab.research.google.com/assets/colab-badge.svg\" alt=\"Open In Colab\"/></a>"
      ]
    },
    {
      "cell_type": "markdown",
      "source": [
        "# **2.1**"
      ],
      "metadata": {
        "id": "XqV6s4AhRw2N"
      }
    },
    {
      "cell_type": "code",
      "source": [
        "\"Hello World!\""
      ],
      "metadata": {
        "colab": {
          "base_uri": "https://localhost:8080/",
          "height": 35
        },
        "id": "VqQGDndEL7pl",
        "outputId": "9114385e-12f4-4413-9899-9cfadf3ec8f4"
      },
      "execution_count": 3,
      "outputs": [
        {
          "output_type": "execute_result",
          "data": {
            "text/plain": [
              "'Hello World!'"
            ],
            "application/vnd.google.colaboratory.intrinsic+json": {
              "type": "string"
            }
          },
          "metadata": {},
          "execution_count": 3
        }
      ]
    },
    {
      "cell_type": "markdown",
      "source": [
        "**Pergunta**: \"Para que serve o código \"Hello World!\" e porque ele é considerado o primeiro passo na programação? me explique de forma correta e sem inventar informações falsas\"\n",
        "\n",
        "**Resposta do chat:** O código \"Hello, World!\" é um exemplo clássico usado para introduzir iniciantes ao mundo da programação. Ele serve para demonstrar o básico de como um programa funciona, desde a escrita do código até sua execução. A ideia é que o programa exiba a mensagem \"Hello, World!\" na tela, o que permite ao aprendiz entender o fluxo básico de um programa, incluindo:\n",
        "1.   **Sintaxe básica:** O programa ensina a sintaxe essencial de uma linguagem de programação, como a estrutura de uma função, como declarar variáveis, e como imprimir texto.\n",
        "2.   **Compilação e execução:** Em linguagens compiladas, o código \"Hello, World!\" é geralmente o primeiro código a ser compilado e executado, permitindo ao aprendiz entender o processo de transformação do código-fonte em um programa executável.\n",
        "3.   **Configuração do ambiente:** A criação e execução de um programa \"Hello, World!\" ajuda os iniciantes a configurar corretamente seu ambiente de desenvolvimento, incluindo a instalação de compiladores ou interpretadores, editores de texto ou IDEs.\n",
        "4.   **Feedback imediato:** Exibir uma mensagem simples na tela oferece um feedback imediato ao programador, validando que o ambiente está funcionando corretamente e que o código foi escrito corretamente."
      ],
      "metadata": {
        "id": "FwV4Y5qsPxI1"
      }
    },
    {
      "cell_type": "markdown",
      "source": [
        "# **2.2**"
      ],
      "metadata": {
        "id": "NmtU-j5xR7ot"
      }
    },
    {
      "cell_type": "markdown",
      "source": [
        "**Pergunta:** Me explique o que são variáveis em python e como posso usa-las, de forma resumida e ontendo informações de sites confiáveis.\n",
        "\n",
        "**Resposta do chat:** Buscou 4 sites\n",
        "\n",
        "Variáveis em Python são como contêineres usados para armazenar dados, que podem ser números, textos, ou outros tipos de informações. Quando você cria uma variável, está reservando um espaço na memória para guardar um valor que poderá ser utilizado ao longo do seu código.\n",
        "\n",
        "**Como Usar Variáveis**\n",
        "\n",
        "Para criar uma variável em Python, você simplesmente escolhe um nome para ela e utiliza o operador = para atribuir um valor. Por exemplo:\n",
        "numero = 10\n",
        "nome = \"João\"\n",
        "Nesse exemplo, numero é uma variável que armazena o valor inteiro 10, e nome é uma variável que armazena a string \"João\".\n",
        "\n",
        "**Regras para Nomear Variáveis**\n",
        "\n",
        "Nomes descritivos: É recomendável usar nomes que indiquem claramente o propósito da variável, como idade ou altura.\n",
        "Caracteres permitidos: Variáveis podem conter letras (maiúsculas e minúsculas), dígitos (mas não no início), e underscores (_).\n",
        "Sensibilidade a maiúsculas: idade e Idade são variáveis diferentes.\n",
        "\n",
        "**Mudança de Valores**\n",
        "\n",
        "Você pode mudar o valor de uma variável a qualquer momento no seu código:\n",
        "numero = 10\n",
        "numero = 20\n",
        "Aqui, o valor de numero é alterado de 10 para 20 na segunda linha.\n",
        "\n",
        "**Uso em Códigos Mais Complexos**\n",
        "\n",
        "Variáveis em Python também podem armazenar diferentes tipos de dados e até resultados de operações:\n",
        "\n",
        "resultado = numero * 2\n",
        "print(resultado)  # Saída: 40\n",
        "\n",
        "Nesse exemplo, resultado armazena o valor da multiplicação de numero por 2.\n",
        "\n",
        "Essas informações ajudam a estruturar seus programas, tornando o código mais legível e facilitando a reutilização de dados.\n",
        "\n",
        "**Referências:**\n",
        "Programiz\n",
        "Real Python\n",
        "W3Schools"
      ],
      "metadata": {
        "id": "ZWPYftqmSF98"
      }
    },
    {
      "cell_type": "code",
      "source": [
        "nome = \"João\"\n",
        "idade = 21\n",
        "altura = 1.75\n",
        "print(nome,idade,altura)"
      ],
      "metadata": {
        "colab": {
          "base_uri": "https://localhost:8080/"
        },
        "id": "Fky_U8IQORJ8",
        "outputId": "fbcc32b4-3829-4a0f-842f-633ee432a3b8"
      },
      "execution_count": 4,
      "outputs": [
        {
          "output_type": "stream",
          "name": "stdout",
          "text": [
            "João 21 1.75\n"
          ]
        }
      ]
    },
    {
      "cell_type": "markdown",
      "source": [
        "**Pergunta:** O que são tipos de dados em python e quais são eles?\n",
        "> \"**Resposta do chat:** Em Python, tipos de dados definem o tipo de valor que uma variável pode armazenar. Cada tipo de dado tem características específicas que determinam como os valores podem ser manipulados. Aqui estão os principais tipos de dados em Python:\n",
        "\n",
        "1.   Inteiros (int):Números inteiros, positivos ou negativos, sem parte decimal.\n",
        "\n",
        "          Exemplo: 10, -5\n",
        "2.   Ponto Flutuante (float):Números com parte decimal.\n",
        "          Exemplo: 3.14, -0.5\n",
        "3.   Strings (str):Sequências de caracteres, usadas para armazenar texto.\n",
        "Exemplo: \"Olá\", 'Python'\n",
        "4.   Booleanos (bool):Valores lógicos que podem ser True ou False.\n",
        "          Exemplo: True, False\n",
        "5.   Listas (list):Coleções ordenadas de itens que podem ser de diferentes tipos de dados.\n",
        "          Exemplo: [1, 2, 3], [\"maçã\", \"banana\"]\n",
        "6.   Tuplas (tuple):Semelhante a listas, mas imutáveis, ou seja, não podem ser alteradas após a criação.\n",
        "          Exemplo: (1, 2, 3)\n",
        "7.   Dicionários (dict):Estruturas que armazenam pares chave-valor, permitindo o acesso aos valores por meio de chaves.\n",
        "          Exemplo: {\"nome\": \"João\", \"idade\": 25}\n",
        "8.   Conjuntos (set):Coleções de itens únicos, sem ordem definida.\n",
        "          Exemplo: {1, 2, 3}, {\"maçã\", \"banana\"}\n",
        "\n",
        "\n",
        "\n",
        "\n"
      ],
      "metadata": {
        "id": "gIEeaLHGT3NX"
      }
    },
    {
      "cell_type": "markdown",
      "source": [
        "# 2.3"
      ],
      "metadata": {
        "id": "31hXjyz8Wf8t"
      }
    },
    {
      "cell_type": "markdown",
      "source": [
        "**Pergunta:** Como são realizadas operações aritméticas básicas(soma,subtração,multiplicação e divisão) em python? me explique resumidamente.\n",
        "\n",
        "> \"**Resposta do chat:** Em Python, as operações aritméticas básicas são realizadas usando os operadores matemáticos comuns:\n",
        "1.   **Soma (+):** Adiciona dois números. Exemplo: 5 + 3 resulta em 8.\n",
        "2.   **Subtração (-):** Subtrai um número do outro. Exemplo: 10 - 4 resulta em 6\n",
        "3.   **Multiplicação (*):** Multiplica dois números. Exemplo: 6 * 7 resulta em 42.\n",
        "4.   **Divisão (/):** Divide um número pelo outro, retornando um valor de ponto flutuante. Exemplo: 10 / 2 resulta em 5.0.\n",
        "\n",
        "**Exemplo em Código:**\n",
        "```\n",
        "# a = 10\n",
        "b = 5\n",
        "\n",
        "soma = a + b       # 15\n",
        "subtracao = a - b  # 5\n",
        "multiplicacao = a * b  # 50\n",
        "divisao = a / b    # 2.0\n",
        "```\n"
      ],
      "metadata": {
        "id": "48MuHYN-WiX8"
      }
    },
    {
      "cell_type": "code",
      "source": [
        "a = 10\n",
        "b = 5\n",
        "soma = a + b\n",
        "subtracao = a-b\n",
        "multiplicacao = a * b\n",
        "divisao = a / b\n",
        "print(soma,subtracao,multiplicacao,divisao)"
      ],
      "metadata": {
        "colab": {
          "base_uri": "https://localhost:8080/"
        },
        "id": "BLsm3CJ6YsNG",
        "outputId": "2eed7e8b-4875-401a-8874-e9df507db69e"
      },
      "execution_count": 5,
      "outputs": [
        {
          "output_type": "stream",
          "name": "stdout",
          "text": [
            "15 5 50 2.0\n"
          ]
        }
      ]
    },
    {
      "cell_type": "markdown",
      "source": [
        "# 3.0\n",
        "**Desafios Símples**"
      ],
      "metadata": {
        "id": "B49NWNluZdl2"
      }
    },
    {
      "cell_type": "markdown",
      "source": [
        "# 3.1\n",
        "**Calculadora Básica**\n",
        "\n",
        "Quero que crie um script básico de calculadora, onde o usuário insira dois números, podendo escolher entre as operações de soma, subtração, multiplicação ou divisão. e depois imprima o resultado.\n",
        "\n",
        "> \"Aqui está um script básico de uma calculadora em Python que permite ao usuário escolher entre soma, subtração, multiplicação ou divisão:\n",
        "Seguindo o exemplo num1 = float(input(\"Digite o primeiro numero\")) num2 = float(input(\"Digite o segundo numero\")) operacao = input(\"Escolha a operacao(+,-,*,/):\")\n"
      ],
      "metadata": {
        "id": "3BcDUBd_Zgrd"
      }
    },
    {
      "cell_type": "code",
      "source": [
        "# Solicita ao usuário que insira os dois números\n",
        "num1 = float(input(\"Digite o primeiro número: \"))\n",
        "num2 = float(input(\"Digite o segundo número: \"))\n",
        "\n",
        "# Solicita ao usuário que escolha a operação\n",
        "operacao = input(\"Escolha a operação (+, -, *, /): \")\n",
        "\n",
        "# Realiza a operação escolhida e imprime o resultado\n",
        "if operacao == \"+\":\n",
        "    resultado = num1 + num2\n",
        "    print(f\"Resultado: {num1} + {num2} = {resultado}\")\n",
        "\n",
        "elif operacao == \"-\":\n",
        "    resultado = num1 - num2\n",
        "    print(f\"Resultado: {num1} - {num2} = {resultado}\")\n",
        "\n",
        "elif operacao == \"*\":\n",
        "    resultado = num1 * num2\n",
        "    print(f\"Resultado: {num1} * {num2} = {resultado}\")\n",
        "\n",
        "elif operacao == \"/\":\n",
        "    if num2 != 0:  # Verifica se o divisor não é zero\n",
        "        resultado = num1 / num2\n",
        "        print(f\"Resultado: {num1} / {num2} = {resultado}\")\n",
        "    else:\n",
        "        print(\"Erro: Divisão por zero não é permitida.\")\n",
        "\n",
        "else:\n",
        "    print(\"Operação inválida. Por favor, selecione uma operação válida.\")\n"
      ],
      "metadata": {
        "colab": {
          "base_uri": "https://localhost:8080/"
        },
        "id": "7f8knSyFdibm",
        "outputId": "10f6e5b3-1dab-4b25-a0fa-ddecb60b2fa1"
      },
      "execution_count": 7,
      "outputs": [
        {
          "output_type": "stream",
          "name": "stdout",
          "text": [
            "Digite o primeiro número: 1\n",
            "Digite o segundo número: 3\n",
            "Escolha a operação (+, -, *, /): -\n",
            "Resultado: 1.0 - 3.0 = -2.0\n"
          ]
        }
      ]
    },
    {
      "cell_type": "markdown",
      "source": [
        "# 3.2\n",
        "**Conversor de Temperatura**\n",
        "\n",
        "Me explique como converter temperatura de Celsius para Fahrenheit e Fahrenheit para Celsius da forma mais símples possível\n",
        "\n",
        "> \"\n",
        "Para converter temperaturas entre Celsius e Fahrenheit:\n",
        "**De Celsius para Fahrenheit:** Multiplique a temperatura em Celsius por 1,8 (ou 9/5) e, em seguida, adicione 32.\n",
        "𝐹=(𝐶×1.8)+32 F=(C×1.8)+32\n",
        "\n",
        "\n",
        "> \"**De Fahrenheit para Celsius:** Subtraia 32 da temperatura em Fahrenheit e, depois, multiplique por 5/9.\n",
        "𝐶=(𝐹−32)×59 C=(F−32)× 9/5​\n",
        "\n",
        "\n",
        "**Exemplos Simples:**\n",
        "Celsius para Fahrenheit: 25°C → (25 × 1.8) + 32 = 77°F\n",
        "Fahrenheit para Celsius: 77°F → (77 - 32) × 5/9 = 25°C\n",
        "Essas fórmulas permitem converter facilmente entre as duas escalas de temperatura.\n",
        "\n"
      ],
      "metadata": {
        "id": "GQq0T5K3der-"
      }
    },
    {
      "cell_type": "code",
      "source": [
        "def celsius_para_fahrenheit(celsius):\n",
        "    return (celsius * 9/5) + 32\n",
        "\n",
        "def fahrenheit_para_celsius(fahrenheit):\n",
        "    return (fahrenheit - 32) * 5/9\n",
        "\n",
        "# Solicita ao usuário para escolher a conversão\n",
        "print(\"Escolha a conversão de temperatura:\")\n",
        "print(\"1. Celsius para Fahrenheit\")\n",
        "print(\"2. Fahrenheit para Celsius\")\n",
        "\n",
        "escolha = input(\"Digite 1 ou 2: \")\n",
        "\n",
        "if escolha == \"1\":\n",
        "    celsius = float(input(\"Digite a temperatura em Celsius: \"))\n",
        "    fahrenheit = celsius_para_fahrenheit(celsius)\n",
        "    print(f\"{celsius}°C é igual a {fahrenheit}°F\")\n",
        "\n",
        "elif escolha == \"2\":\n",
        "    fahrenheit = float(input(\"Digite a temperatura em Fahrenheit: \"))\n",
        "    celsius = fahrenheit_para_celsius(fahrenheit)\n",
        "    print(f\"{fahrenheit}°F é igual a {celsius}°C\")\n",
        "\n",
        "else:\n",
        "    print(\"Escolha inválida. Por favor, digite 1 ou 2.\")\n"
      ],
      "metadata": {
        "colab": {
          "base_uri": "https://localhost:8080/"
        },
        "id": "PR71IR88hnFf",
        "outputId": "14174ddc-359e-429c-a573-07ba2fb8944a"
      },
      "execution_count": 8,
      "outputs": [
        {
          "output_type": "stream",
          "name": "stdout",
          "text": [
            "Escolha a conversão de temperatura:\n",
            "1. Celsius para Fahrenheit\n",
            "2. Fahrenheit para Celsius\n",
            "Digite 1 ou 2: 1\n",
            "Digite a temperatura em Celsius: 25\n",
            "25.0°C é igual a 77.0°F\n"
          ]
        }
      ]
    },
    {
      "cell_type": "markdown",
      "source": [
        "#3.3\n",
        "**Contador de Palavras**\n",
        "\n",
        "Me explique como manipular strings em python de forma resumida e símples.\n",
        "> \"\n",
        "1.   Concatenar: Juntar strings com +.\n",
        "         resultado = \"Olá, \" + \"mundo!\"\n",
        "2.   Repetir: Usar * para repetir uma string.\n",
        "         resultado = \"Python! \" * 3\n",
        "3.   Acessar Caracteres: Usar índices, começando em 0.\n",
        "         primeiro = \"Python\"[0]  # 'P'\n",
        "4.   Fatiar: Extrair partes da string.\n",
        "         substring = \"Programação\"[0:4]  # 'Prog'\n",
        "5.   Alterar o Caso: Usar upper(), lower(), capitalize().\n",
        "         maiusculo = \"python\".upper()  # 'PYTHON'\n",
        "6.   Remover Espaços: Usar strip(), lstrip(), rstrip().\n",
        "         sem_espacos = \"   Python   \".strip()  # 'Python'\n",
        "7.   Dividir e Juntar: Usar split() e join().\n",
        "         lista = \"Python é incrível\".split()  # ['Python', 'é', 'incrível']nova_string = \" \".join(lista)  # 'Python é incrível'\n",
        "8.   Substituir: Usar replace().\n",
        "         nova_str = \"Eu gosto de maçã\".replace(\"maçã\", \"banana\")  # 'Eu gosto de banana'\n",
        "9.   Encontrar: Usar find() para localizar substrings.\n",
        "         posicao = \"Python é ótimo\".find(\"ótimo\")  # 7"
      ],
      "metadata": {
        "id": "-Q30az6Ch8Wv"
      }
    },
    {
      "cell_type": "code",
      "source": [
        "# Pede ao usuário para inserir uma frase\n",
        "frase = input(\"Digite uma frase: \")\n",
        "\n",
        "# Divide a frase em palavras e conta quantas há\n",
        "numero_de_palavras = len(frase.split())\n",
        "\n",
        "# Exibe o resultado\n",
        "print(\"Número de palavras:\", numero_de_palavras)\n"
      ],
      "metadata": {
        "colab": {
          "base_uri": "https://localhost:8080/"
        },
        "id": "SJRCEhGlndMO",
        "outputId": "d7e93cf5-7844-48df-93d7-c7f95afee6af"
      },
      "execution_count": 9,
      "outputs": [
        {
          "output_type": "stream",
          "name": "stdout",
          "text": [
            "Digite uma frase: O rato roeu a roupa do rei de roma\n",
            "Número de palavras: 9\n"
          ]
        }
      ]
    },
    {
      "cell_type": "markdown",
      "source": [
        "# 3.4\n",
        "\n",
        "**Aplicativo mais complexo**\n",
        "Pedi para que o chat fizesse uma aplicação complexa em comparação com as anteriores, utilizando o mesmo tema do \"contador de palavras\", ele adicionou a função de contar quantas vezes a mesma palavra se repete na frase.\n"
      ],
      "metadata": {
        "id": "yZDf9zwrnvO_"
      }
    },
    {
      "cell_type": "code",
      "source": [
        "# Importa o módulo Counter do collections para contar a frequência das palavras\n",
        "from collections import Counter\n",
        "\n",
        "def contar_palavras(frase):\n",
        "    \"\"\"\n",
        "    Conta o número de palavras e a frequência de cada palavra na frase fornecida.\n",
        "\n",
        "    Parâmetros:\n",
        "    frase (str): A frase a ser analisada.\n",
        "\n",
        "    Retorna:\n",
        "    tuple: Um tuple contendo o número de palavras e um dicionário com a frequência de cada palavra.\n",
        "    \"\"\"\n",
        "    # Divide a frase em palavras usando o método split()\n",
        "    palavras = frase.split()\n",
        "\n",
        "    # Conta o número de palavras\n",
        "    numero_de_palavras = len(palavras)\n",
        "\n",
        "    # Conta a frequência de cada palavra usando Counter\n",
        "    frequencia_palavras = Counter(palavras)\n",
        "\n",
        "    return numero_de_palavras, frequencia_palavras\n",
        "\n",
        "def main():\n",
        "    \"\"\"\n",
        "    Função principal que solicita a entrada do usuário e exibe o número de palavras\n",
        "    e a frequência de cada palavra.\n",
        "    \"\"\"\n",
        "    # Solicita que o usuário insira uma frase\n",
        "    frase = input(\"Digite uma frase: \")\n",
        "\n",
        "    # Obtém o número de palavras e a frequência das palavras\n",
        "    numero_de_palavras, frequencia_palavras = contar_palavras(frase)\n",
        "\n",
        "    # Exibe o número de palavras\n",
        "    print(f\"Número de palavras: {numero_de_palavras}\")\n",
        "\n",
        "    # Exibe a frequência de cada palavra\n",
        "    print(\"Frequência de cada palavra:\")\n",
        "    for palavra, frequencia in frequencia_palavras.items():\n",
        "        print(f\"{palavra}: {frequencia}\")\n",
        "\n",
        "# Executa a função principal\n",
        "if __name__ == \"__main__\":\n",
        "    main()\n"
      ],
      "metadata": {
        "colab": {
          "base_uri": "https://localhost:8080/"
        },
        "id": "ze2B6tsJAlsY",
        "outputId": "8d2502a1-6b8f-4202-bafc-c030c0abe541"
      },
      "execution_count": 12,
      "outputs": [
        {
          "output_type": "stream",
          "name": "stdout",
          "text": [
            "Digite uma frase: Num ninho de mafagafos há sete mafagafinhos. Quando a mafagafa gafa, gafam os sete mafagafinhos.\n",
            "Número de palavras: 15\n",
            "Frequência de cada palavra:\n",
            "Num: 1\n",
            "ninho: 1\n",
            "de: 1\n",
            "mafagafos: 1\n",
            "há: 1\n",
            "sete: 2\n",
            "mafagafinhos.: 2\n",
            "Quando: 1\n",
            "a: 1\n",
            "mafagafa: 1\n",
            "gafa,: 1\n",
            "gafam: 1\n",
            "os: 1\n"
          ]
        }
      ]
    },
    {
      "cell_type": "markdown",
      "source": [
        "**Documentação Resumida** contar_palavras(frase)\n",
        "\n",
        "**Descrição**: Conta o número total de palavras e a frequência de cada palavra na frase fornecida.\n",
        "\n",
        "**Parâmetros**:\n",
        "frase (str): A frase a ser analisada.\n",
        "\n",
        "**Retorno**:\n",
        "tuple: Contém o número total de palavras e um dicionário com a frequência de cada palavra.\n",
        "main()\n",
        "\n",
        "**Função**:\n",
        "Função principal que solicita a entrada do usuário, chama contar_palavras e exibe os resultados.\n",
        "Solicita a frase do usuário.\n",
        "Obtém e exibe o número de palavras e a frequência de cada palavra.\n",
        "\n",
        "**Uso do código**:\n",
        "O usuário insere uma frase.\n",
        "O código conta o número total de palavras.\n",
        "O código calcula a frequência de cada palavra e exibe essas informações.\n",
        "\n"
      ],
      "metadata": {
        "id": "9fOwDFu5BQMI"
      }
    },
    {
      "cell_type": "markdown",
      "source": [
        "# 4.1\n",
        "**Reflexão**\n",
        "\n",
        "**Pontos positivos**:\n",
        "\n",
        "*   O chatGPT de certa forma facilita quando precisamos de um resumo para aprender sobre um tema complexo e extenso.\n",
        "*   A diversidade de conteúdos que podem ser acessados em um único local é tentadora.\n",
        "\n",
        "**Pontos negativos**:  \n",
        "\n",
        "*   Suas explicações sobre os temas variam conforme a versão do chatGPT, enquanto obtivermos acesso a nova versão, o chat pesquisa sobre assuntos em sites, mas é limitado para quem não pagar.\n",
        "*   Ao solicitar uma aplicação completa, o chat pode utilizar bibliotecas e funções que ainda não foram vistas por programadores iniciantes, o que pode confundir um pouco.   \n",
        "\n",
        "Assim como outras plataformas de IA o chatGPT não é uma fonte totalmente confiável de informação, podendo modificar ou mentir quando não tem acesso a resposta correta, mas utilizando de forma correta e estudando se suas fontes são confiaveis o chat pode agilizar muito em alguns trabalhos, algumas vezes quando não censegui resolver alguns erros em scripts recorri ao chat para que me explicasse o que não encontrei em vídeos e sites, ou para tirar dúvidas enquanto estudava sozinha, utilizando não só ele mas também outras formas de consulta.\n",
        "\n"
      ],
      "metadata": {
        "id": "HapYBau1B-rC"
      }
    }
  ]
}