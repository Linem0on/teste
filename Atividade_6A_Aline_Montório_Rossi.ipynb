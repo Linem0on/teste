{
  "nbformat": 4,
  "nbformat_minor": 0,
  "metadata": {
    "colab": {
      "provenance": [],
      "collapsed_sections": [
        "3BcDUBd_Zgrd"
      ],
      "authorship_tag": "ABX9TyPtxGvffFwhEom55mPcsiWm",
      "include_colab_link": true
    },
    "kernelspec": {
      "name": "python3",
      "display_name": "Python 3"
    },
    "language_info": {
      "name": "python"
    }
  },
  "cells": [
    {
      "cell_type": "markdown",
      "metadata": {
        "id": "view-in-github",
        "colab_type": "text"
      },
      "source": [
        "<a href=\"https://colab.research.google.com/github/Linem0on/teste/blob/main/Atividade_6A_Aline_Mont%C3%B3rio_Rossi.ipynb\" target=\"_parent\"><img src=\"https://colab.research.google.com/assets/colab-badge.svg\" alt=\"Open In Colab\"/></a>"
      ]
    },
    {
      "cell_type": "markdown",
      "source": [
        "# **2.1**"
      ],
      "metadata": {
        "id": "XqV6s4AhRw2N"
      }
    },
    {
      "cell_type": "code",
      "source": [
        "\"Hello World!\""
      ],
      "metadata": {
        "colab": {
          "base_uri": "https://localhost:8080/",
          "height": 35
        },
        "id": "VqQGDndEL7pl",
        "outputId": "9114385e-12f4-4413-9899-9cfadf3ec8f4"
      },
      "execution_count": 3,
      "outputs": [
        {
          "output_type": "execute_result",
          "data": {
            "text/plain": [
              "'Hello World!'"
            ],
            "application/vnd.google.colaboratory.intrinsic+json": {
              "type": "string"
            }
          },
          "metadata": {},
          "execution_count": 3
        }
      ]
    },
    {
      "cell_type": "markdown",
      "source": [
        "**Pergunta**: \"Para que serve o código \"Hello World!\" e porque ele é considerado o primeiro passo na programação? me explique de forma correta e sem inventar informações falsas\"\n",
        "\n",
        "**Resposta do chat:** O código \"Hello, World!\" é um exemplo clássico usado para introduzir iniciantes ao mundo da programação. Ele serve para demonstrar o básico de como um programa funciona, desde a escrita do código até sua execução. A ideia é que o programa exiba a mensagem \"Hello, World!\" na tela, o que permite ao aprendiz entender o fluxo básico de um programa, incluindo:\n",
        "1.   **Sintaxe básica:** O programa ensina a sintaxe essencial de uma linguagem de programação, como a estrutura de uma função, como declarar variáveis, e como imprimir texto.\n",
        "2.   **Compilação e execução:** Em linguagens compiladas, o código \"Hello, World!\" é geralmente o primeiro código a ser compilado e executado, permitindo ao aprendiz entender o processo de transformação do código-fonte em um programa executável.\n",
        "3.   **Configuração do ambiente:** A criação e execução de um programa \"Hello, World!\" ajuda os iniciantes a configurar corretamente seu ambiente de desenvolvimento, incluindo a instalação de compiladores ou interpretadores, editores de texto ou IDEs.\n",
        "4.   **Feedback imediato:** Exibir uma mensagem simples na tela oferece um feedback imediato ao programador, validando que o ambiente está funcionando corretamente e que o código foi escrito corretamente."
      ],
      "metadata": {
        "id": "FwV4Y5qsPxI1"
      }
    },
    {
      "cell_type": "markdown",
      "source": [
        "# **2.2**"
      ],
      "metadata": {
        "id": "NmtU-j5xR7ot"
      }
    },
    {
      "cell_type": "markdown",
      "source": [
        "**Pergunta:** Me explique o que são variáveis em python e como posso usa-las, de forma resumida e ontendo informações de sites confiáveis.\n",
        "\n",
        "**Resposta do chat:** Buscou 4 sites\n",
        "\n",
        "Variáveis em Python são como contêineres usados para armazenar dados, que podem ser números, textos, ou outros tipos de informações. Quando você cria uma variável, está reservando um espaço na memória para guardar um valor que poderá ser utilizado ao longo do seu código.\n",
        "\n",
        "**Como Usar Variáveis**\n",
        "\n",
        "Para criar uma variável em Python, você simplesmente escolhe um nome para ela e utiliza o operador = para atribuir um valor. Por exemplo:\n",
        "numero = 10\n",
        "nome = \"João\"\n",
        "Nesse exemplo, numero é uma variável que armazena o valor inteiro 10, e nome é uma variável que armazena a string \"João\".\n",
        "\n",
        "**Regras para Nomear Variáveis**\n",
        "\n",
        "Nomes descritivos: É recomendável usar nomes que indiquem claramente o propósito da variável, como idade ou altura.\n",
        "Caracteres permitidos: Variáveis podem conter letras (maiúsculas e minúsculas), dígitos (mas não no início), e underscores (_).\n",
        "Sensibilidade a maiúsculas: idade e Idade são variáveis diferentes.\n",
        "\n",
        "**Mudança de Valores**\n",
        "\n",
        "Você pode mudar o valor de uma variável a qualquer momento no seu código:\n",
        "numero = 10\n",
        "numero = 20\n",
        "Aqui, o valor de numero é alterado de 10 para 20 na segunda linha.\n",
        "\n",
        "**Uso em Códigos Mais Complexos**\n",
        "\n",
        "Variáveis em Python também podem armazenar diferentes tipos de dados e até resultados de operações:\n",
        "\n",
        "resultado = numero * 2\n",
        "print(resultado)  # Saída: 40\n",
        "\n",
        "Nesse exemplo, resultado armazena o valor da multiplicação de numero por 2.\n",
        "\n",
        "Essas informações ajudam a estruturar seus programas, tornando o código mais legível e facilitando a reutilização de dados.\n",
        "\n",
        "**Referências:**\n",
        "Programiz\n",
        "Real Python\n",
        "W3Schools"
      ],
      "metadata": {
        "id": "ZWPYftqmSF98"
      }
    },
    {
      "cell_type": "code",
      "source": [
        "nome = \"João\"\n",
        "idade = 21\n",
        "altura = 1.75\n",
        "print(nome,idade,altura)"
      ],
      "metadata": {
        "colab": {
          "base_uri": "https://localhost:8080/"
        },
        "id": "Fky_U8IQORJ8",
        "outputId": "fbcc32b4-3829-4a0f-842f-633ee432a3b8"
      },
      "execution_count": 4,
      "outputs": [
        {
          "output_type": "stream",
          "name": "stdout",
          "text": [
            "João 21 1.75\n"
          ]
        }
      ]
    },
    {
      "cell_type": "markdown",
      "source": [
        "**Pergunta:** O que são tipos de dados em python e quais são eles?\n",
        "> \"**Resposta do chat:** Em Python, tipos de dados definem o tipo de valor que uma variável pode armazenar. Cada tipo de dado tem características específicas que determinam como os valores podem ser manipulados. Aqui estão os principais tipos de dados em Python:\n",
        "\n",
        "1.   Inteiros (int):Números inteiros, positivos ou negativos, sem parte decimal.\n",
        "\n",
        "          Exemplo: 10, -5\n",
        "2.   Ponto Flutuante (float):Números com parte decimal.\n",
        "          Exemplo: 3.14, -0.5\n",
        "3.   Strings (str):Sequências de caracteres, usadas para armazenar texto.\n",
        "Exemplo: \"Olá\", 'Python'\n",
        "4.   Booleanos (bool):Valores lógicos que podem ser True ou False.\n",
        "          Exemplo: True, False\n",
        "5.   Listas (list):Coleções ordenadas de itens que podem ser de diferentes tipos de dados.\n",
        "          Exemplo: [1, 2, 3], [\"maçã\", \"banana\"]\n",
        "6.   Tuplas (tuple):Semelhante a listas, mas imutáveis, ou seja, não podem ser alteradas após a criação.\n",
        "          Exemplo: (1, 2, 3)\n",
        "7.   Dicionários (dict):Estruturas que armazenam pares chave-valor, permitindo o acesso aos valores por meio de chaves.\n",
        "          Exemplo: {\"nome\": \"João\", \"idade\": 25}\n",
        "8.   Conjuntos (set):Coleções de itens únicos, sem ordem definida.\n",
        "          Exemplo: {1, 2, 3}, {\"maçã\", \"banana\"}\n",
        "\n",
        "\n",
        "\n",
        "\n"
      ],
      "metadata": {
        "id": "gIEeaLHGT3NX"
      }
    },
    {
      "cell_type": "markdown",
      "source": [
        "# 2.3"
      ],
      "metadata": {
        "id": "31hXjyz8Wf8t"
      }
    },
    {
      "cell_type": "markdown",
      "source": [
        "**Pergunta:** Como são realizadas operações aritméticas básicas(soma,subtração,multiplicação e divisão) em python? me explique resumidamente.\n",
        "\n",
        "> \"**Resposta do chat:** Em Python, as operações aritméticas básicas são realizadas usando os operadores matemáticos comuns:\n",
        "1.   **Soma (+):** Adiciona dois números. Exemplo: 5 + 3 resulta em 8.\n",
        "2.   **Subtração (-):** Subtrai um número do outro. Exemplo: 10 - 4 resulta em 6\n",
        "3.   **Multiplicação (*):** Multiplica dois números. Exemplo: 6 * 7 resulta em 42.\n",
        "4.   **Divisão (/):** Divide um número pelo outro, retornando um valor de ponto flutuante. Exemplo: 10 / 2 resulta em 5.0.\n",
        "\n",
        "**Exemplo em Código:**\n",
        "```\n",
        "# a = 10\n",
        "b = 5\n",
        "\n",
        "soma = a + b       # 15\n",
        "subtracao = a - b  # 5\n",
        "multiplicacao = a * b  # 50\n",
        "divisao = a / b    # 2.0\n",
        "```\n"
      ],
      "metadata": {
        "id": "48MuHYN-WiX8"
      }
    },
    {
      "cell_type": "code",
      "source": [
        "a = 10\n",
        "b = 5\n",
        "soma = a + b\n",
        "subtracao = a-b\n",
        "multiplicacao = a * b\n",
        "divisao = a / b\n",
        "print(soma,subtracao,multiplicacao,divisao)"
      ],
      "metadata": {
        "colab": {
          "base_uri": "https://localhost:8080/"
        },
        "id": "BLsm3CJ6YsNG",
        "outputId": "2eed7e8b-4875-401a-8874-e9df507db69e"
      },
      "execution_count": 5,
      "outputs": [
        {
          "output_type": "stream",
          "name": "stdout",
          "text": [
            "15 5 50 2.0\n"
          ]
        }
      ]
    },
    {
      "cell_type": "markdown",
      "source": [
        "# 3.0\n",
        "**Desafios Símples**"
      ],
      "metadata": {
        "id": "B49NWNluZdl2"
      }
    },
    {
      "cell_type": "markdown",
      "source": [
        "# 3.1\n",
        "**Calculadora Básica**\n",
        "\n",
        "Quero que crie um script básico de calculadora, onde o usuário insira dois números, podendo escolher entre as operações de soma, subtração, multiplicação ou divisão. e depois imprima o resultado.\n",
        "\n",
        "> \"Aqui está um script básico de uma calculadora em Python que permite ao usuário escolher entre soma, subtração, multiplicação ou divisão:\n",
        "Seguindo o exemplo num1 = float(input(\"Digite o primeiro numero\")) num2 = float(input(\"Digite o segundo numero\")) operacao = input(\"Escolha a operacao(+,-,*,/):\")\n"
      ],
      "metadata": {
        "id": "3BcDUBd_Zgrd"
      }
    },
    {
      "cell_type": "code",
      "source": [
        "# Solicita ao usuário que insira os dois números\n",
        "num1 = float(input(\"Digite o primeiro número: \"))\n",
        "num2 = float(input(\"Digite o segundo número: \"))\n",
        "\n",
        "# Solicita ao usuário que escolha a operação\n",
        "operacao = input(\"Escolha a operação (+, -, *, /): \")\n",
        "\n",
        "# Realiza a operação escolhida e imprime o resultado\n",
        "if operacao == \"+\":\n",
        "    resultado = num1 + num2\n",
        "    print(f\"Resultado: {num1} + {num2} = {resultado}\")\n",
        "\n",
        "elif operacao == \"-\":\n",
        "    resultado = num1 - num2\n",
        "    print(f\"Resultado: {num1} - {num2} = {resultado}\")\n",
        "\n",
        "elif operacao == \"*\":\n",
        "    resultado = num1 * num2\n",
        "    print(f\"Resultado: {num1} * {num2} = {resultado}\")\n",
        "\n",
        "elif operacao == \"/\":\n",
        "    if num2 != 0:  # Verifica se o divisor não é zero\n",
        "        resultado = num1 / num2\n",
        "        print(f\"Resultado: {num1} / {num2} = {resultado}\")\n",
        "    else:\n",
        "        print(\"Erro: Divisão por zero não é permitida.\")\n",
        "\n",
        "else:\n",
        "    print(\"Operação inválida. Por favor, selecione uma operação válida.\")\n"
      ],
      "metadata": {
        "colab": {
          "base_uri": "https://localhost:8080/"
        },
        "id": "7f8knSyFdibm",
        "outputId": "10f6e5b3-1dab-4b25-a0fa-ddecb60b2fa1"
      },
      "execution_count": 7,
      "outputs": [
        {
          "output_type": "stream",
          "name": "stdout",
          "text": [
            "Digite o primeiro número: 1\n",
            "Digite o segundo número: 3\n",
            "Escolha a operação (+, -, *, /): -\n",
            "Resultado: 1.0 - 3.0 = -2.0\n"
          ]
        }
      ]
    },
    {
      "cell_type": "markdown",
      "source": [
        "# 3.2\n",
        "**Conversor de Temperatura**\n",
        "\n",
        "Me explique como converter temperatura de Celsius para Fahrenheit e Fahrenheit para Celsius da forma mais símples possível\n",
        "\n",
        "> \"\n",
        "Para converter temperaturas entre Celsius e Fahrenheit:\n",
        "**De Celsius para Fahrenheit:** Multiplique a temperatura em Celsius por 1,8 (ou 9/5) e, em seguida, adicione 32.\n",
        "𝐹=(𝐶×1.8)+32 F=(C×1.8)+32\n",
        "\n",
        "\n",
        "> \"**De Fahrenheit para Celsius:** Subtraia 32 da temperatura em Fahrenheit e, depois, multiplique por 5/9.\n",
        "𝐶=(𝐹−32)×59 C=(F−32)× 9/5​\n",
        "\n",
        "\n",
        "**Exemplos Simples:**\n",
        "Celsius para Fahrenheit: 25°C → (25 × 1.8) + 32 = 77°F\n",
        "Fahrenheit para Celsius: 77°F → (77 - 32) × 5/9 = 25°C\n",
        "Essas fórmulas permitem converter facilmente entre as duas escalas de temperatura.\n",
        "\n"
      ],
      "metadata": {
        "id": "GQq0T5K3der-"
      }
    },
    {
      "cell_type": "code",
      "source": [
        "def celsius_para_fahrenheit(celsius):\n",
        "    return (celsius * 9/5) + 32\n",
        "\n",
        "def fahrenheit_para_celsius(fahrenheit):\n",
        "    return (fahrenheit - 32) * 5/9\n",
        "\n",
        "# Solicita ao usuário para escolher a conversão\n",
        "print(\"Escolha a conversão de temperatura:\")\n",
        "print(\"1. Celsius para Fahrenheit\")\n",
        "print(\"2. Fahrenheit para Celsius\")\n",
        "\n",
        "escolha = input(\"Digite 1 ou 2: \")\n",
        "\n",
        "if escolha == \"1\":\n",
        "    celsius = float(input(\"Digite a temperatura em Celsius: \"))\n",
        "    fahrenheit = celsius_para_fahrenheit(celsius)\n",
        "    print(f\"{celsius}°C é igual a {fahrenheit}°F\")\n",
        "\n",
        "elif escolha == \"2\":\n",
        "    fahrenheit = float(input(\"Digite a temperatura em Fahrenheit: \"))\n",
        "    celsius = fahrenheit_para_celsius(fahrenheit)\n",
        "    print(f\"{fahrenheit}°F é igual a {celsius}°C\")\n",
        "\n",
        "else:\n",
        "    print(\"Escolha inválida. Por favor, digite 1 ou 2.\")\n"
      ],
      "metadata": {
        "colab": {
          "base_uri": "https://localhost:8080/"
        },
        "id": "PR71IR88hnFf",
        "outputId": "14174ddc-359e-429c-a573-07ba2fb8944a"
      },
      "execution_count": 8,
      "outputs": [
        {
          "output_type": "stream",
          "name": "stdout",
          "text": [
            "Escolha a conversão de temperatura:\n",
            "1. Celsius para Fahrenheit\n",
            "2. Fahrenheit para Celsius\n",
            "Digite 1 ou 2: 1\n",
            "Digite a temperatura em Celsius: 25\n",
            "25.0°C é igual a 77.0°F\n"
          ]
        }
      ]
    },
    {
      "cell_type": "markdown",
      "source": [
        "## 3.3\n",
        "**Contador de Palavras**\n"
      ],
      "metadata": {
        "id": "jx5KFb7Shyhm"
      }
    },
    {
      "cell_type": "markdown",
      "source": [
        "#3.4\n",
        "**Aplicativo mais complexo**"
      ],
      "metadata": {
        "id": "-Q30az6Ch8Wv"
      }
    }
  ]
}